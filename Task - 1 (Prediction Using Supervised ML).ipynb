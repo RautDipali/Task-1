{
 "cells": [
  {
   "cell_type": "markdown",
   "id": "620663f6",
   "metadata": {},
   "source": [
    "# GRIP : The Spark Foundation- Data Science & Business Analytics Internship"
   ]
  },
  {
   "cell_type": "markdown",
   "id": "c5300871",
   "metadata": {},
   "source": [
    "## Task 1 : Prediction Using Supervised Machine Learning"
   ]
  },
  {
   "cell_type": "markdown",
   "id": "11714e17",
   "metadata": {},
   "source": [
    "Simple linear Regression with Scikit learn\n",
    "\n",
    "\n",
    "Problem Statement : Predict expected percent score of student based on the no. of study hours.\n",
    " \n",
    " \n",
    "In this data we are dealing with only two variables."
   ]
  },
  {
   "cell_type": "markdown",
   "id": "87d6a8f1",
   "metadata": {},
   "source": [
    "### Author : Dipali Jalindar Raut"
   ]
  },
  {
   "cell_type": "code",
   "execution_count": 17,
   "id": "b64f31a3",
   "metadata": {},
   "outputs": [],
   "source": [
    "# importing libraries\n",
    "import pandas as pd\n",
    "import numpy as np\n",
    "import seaborn as sns\n",
    "import matplotlib.pyplot as plt\n",
    "sns.set()"
   ]
  },
  {
   "cell_type": "code",
   "execution_count": 18,
   "id": "9f90eaa7",
   "metadata": {},
   "outputs": [
    {
     "name": "stdout",
     "output_type": "stream",
     "text": [
      "Data imported successfully\n"
     ]
    },
    {
     "data": {
      "text/html": [
       "<div>\n",
       "<style scoped>\n",
       "    .dataframe tbody tr th:only-of-type {\n",
       "        vertical-align: middle;\n",
       "    }\n",
       "\n",
       "    .dataframe tbody tr th {\n",
       "        vertical-align: top;\n",
       "    }\n",
       "\n",
       "    .dataframe thead th {\n",
       "        text-align: right;\n",
       "    }\n",
       "</style>\n",
       "<table border=\"1\" class=\"dataframe\">\n",
       "  <thead>\n",
       "    <tr style=\"text-align: right;\">\n",
       "      <th></th>\n",
       "      <th>Hours</th>\n",
       "      <th>Scores</th>\n",
       "    </tr>\n",
       "  </thead>\n",
       "  <tbody>\n",
       "    <tr>\n",
       "      <th>0</th>\n",
       "      <td>2.5</td>\n",
       "      <td>21</td>\n",
       "    </tr>\n",
       "    <tr>\n",
       "      <th>1</th>\n",
       "      <td>5.1</td>\n",
       "      <td>47</td>\n",
       "    </tr>\n",
       "    <tr>\n",
       "      <th>2</th>\n",
       "      <td>3.2</td>\n",
       "      <td>27</td>\n",
       "    </tr>\n",
       "    <tr>\n",
       "      <th>3</th>\n",
       "      <td>8.5</td>\n",
       "      <td>75</td>\n",
       "    </tr>\n",
       "    <tr>\n",
       "      <th>4</th>\n",
       "      <td>3.5</td>\n",
       "      <td>30</td>\n",
       "    </tr>\n",
       "  </tbody>\n",
       "</table>\n",
       "</div>"
      ],
      "text/plain": [
       "   Hours  Scores\n",
       "0    2.5      21\n",
       "1    5.1      47\n",
       "2    3.2      27\n",
       "3    8.5      75\n",
       "4    3.5      30"
      ]
     },
     "execution_count": 18,
     "metadata": {},
     "output_type": "execute_result"
    }
   ],
   "source": [
    "url = \"http://bit.ly/w-data\"         # Data is stored in given link.\n",
    "df = pd.read_csv(url)\n",
    "print(\"Data imported successfully\")\n",
    "df.head()                            # Display the first five rows of dataframe."
   ]
  },
  {
   "cell_type": "code",
   "execution_count": 19,
   "id": "d51df83c",
   "metadata": {},
   "outputs": [
    {
     "name": "stdout",
     "output_type": "stream",
     "text": [
      "Shape of the dataset : (25, 2)\n",
      "Columns names : Index(['Hours', 'Scores'], dtype='object')\n",
      "Columns Datatypes : Hours     float64\n",
      "Scores      int64\n",
      "dtype: object\n"
     ]
    }
   ],
   "source": [
    "print('Shape of the dataset :',df.shape)\n",
    "print('Columns names :',df.columns)\n",
    "print('Columns Datatypes :',df.dtypes)"
   ]
  },
  {
   "cell_type": "code",
   "execution_count": 20,
   "id": "cfdcf275",
   "metadata": {},
   "outputs": [
    {
     "data": {
      "text/plain": [
       "False"
      ]
     },
     "execution_count": 20,
     "metadata": {},
     "output_type": "execute_result"
    }
   ],
   "source": [
    "# Checking any missing values in data\n",
    "df.isna().values.any()"
   ]
  },
  {
   "cell_type": "markdown",
   "id": "17a85dd8",
   "metadata": {},
   "source": [
    "### There is no missing values present in data so no need to the clean data, we can proceed for the further analysis."
   ]
  },
  {
   "cell_type": "markdown",
   "id": "6c479dc8",
   "metadata": {},
   "source": [
    "## Define the dependent and independent variables"
   ]
  },
  {
   "cell_type": "code",
   "execution_count": 21,
   "id": "b2ce31a0",
   "metadata": {},
   "outputs": [],
   "source": [
    "# following the regression equation ,our dependent variable(y)is the scores.\n",
    "y = df[\"Scores\"]\n",
    "# independent variable (x) is the hours\n",
    "x = df[\"Hours\"]"
   ]
  },
  {
   "cell_type": "markdown",
   "id": "7e19b37d",
   "metadata": {},
   "source": [
    "## Explore the Data"
   ]
  },
  {
   "cell_type": "markdown",
   "id": "24d15eaa",
   "metadata": {},
   "source": [
    "Plot the scatterplot to check the relation between the Scores and the Study Hours."
   ]
  },
  {
   "cell_type": "code",
   "execution_count": 22,
   "id": "1f813acc",
   "metadata": {},
   "outputs": [
    {
     "data": {
      "text/plain": [
       "Text(0, 0.5, 'Percentage Score')"
      ]
     },
     "execution_count": 22,
     "metadata": {},
     "output_type": "execute_result"
    },
    {
     "data": {
      "image/png": "[encoded data removed]",
      "text/plain": [
       "<Figure size 432x288 with 1 Axes>"
      ]
     },
     "metadata": {},
     "output_type": "display_data"
    }
   ],
   "source": [
    "# Plotting the distribution of scores\n",
    "df.plot(x='Hours', y='Scores', style='o') \n",
    "#%matplotlib inline\n",
    "plt.title('Hours vs Scores')  \n",
    "plt.xlabel('Hours Studied')  \n",
    "plt.ylabel('Percentage Score')  \n",
    "#plt.scatter(df.Hours,df.Scores,colour=\"red\",marker=\"+\")"
   ]
  },
  {
   "cell_type": "markdown",
   "id": "8476e4ab",
   "metadata": {},
   "source": [
    "### From the above scatterplot , we can clearly see that there is a positive linear relationship between the number of study hours and percentage of score."
   ]
  },
  {
   "cell_type": "markdown",
   "id": "6e223515",
   "metadata": {},
   "source": [
    "## Data Preparation"
   ]
  },
  {
   "cell_type": "markdown",
   "id": "83f54068",
   "metadata": {},
   "source": [
    "#### Prepare a data as a dependent and independent variables:"
   ]
  },
  {
   "cell_type": "markdown",
   "id": "1dd20510",
   "metadata": {},
   "source": [
    "#### x(hours studied) as a independent variable and "
   ]
  },
  {
   "cell_type": "markdown",
   "id": "11013ec7",
   "metadata": {},
   "source": [
    "#### y(Score) as a dependent variable."
   ]
  },
  {
   "cell_type": "code",
   "execution_count": 23,
   "id": "1dadbfe6",
   "metadata": {},
   "outputs": [],
   "source": [
    "x = df.iloc[:,:-1].values  #iloc[] command is helps us to select specific number of row or column from the dataset.\n",
    "y = df.iloc[:,1].values    #Gives observation of 2nd column."
   ]
  },
  {
   "cell_type": "markdown",
   "id": "7073aa18",
   "metadata": {},
   "source": [
    "## Train_Test_Split\n",
    "\n",
    "\n",
    "\n",
    "\n",
    "\n",
    "Now we will split the data into training and testing sets with splitting rule 80-20.Here we use train_test_split method using sklearn library."
   ]
  },
  {
   "cell_type": "code",
   "execution_count": 24,
   "id": "53348b6e",
   "metadata": {},
   "outputs": [],
   "source": [
    "from sklearn.model_selection import train_test_split\n",
    "x_train,x_test,y_train,y_test = train_test_split(x,y,test_size=0.2,random_state=2,shuffle =True)"
   ]
  },
  {
   "cell_type": "code",
   "execution_count": 25,
   "id": "59e6454c",
   "metadata": {},
   "outputs": [
    {
     "name": "stdout",
     "output_type": "stream",
     "text": [
      "(20, 1)\n",
      "(20,)\n",
      "(5, 1)\n",
      "(5,)\n"
     ]
    }
   ],
   "source": [
    "print(x_train.shape)\n",
    "print(y_train.shape)\n",
    "print(x_test.shape)\n",
    "print(y_test.shape)"
   ]
  },
  {
   "cell_type": "markdown",
   "id": "c20f7861",
   "metadata": {},
   "source": [
    "### Training the model"
   ]
  },
  {
   "cell_type": "code",
   "execution_count": 10,
   "id": "cfe772d2",
   "metadata": {},
   "outputs": [
    {
     "name": "stdout",
     "output_type": "stream",
     "text": [
      "Training Completed Successfully.\n"
     ]
    }
   ],
   "source": [
    "from sklearn.linear_model import LinearRegression\n",
    "model = LinearRegression()\n",
    "model.fit(x_train,y_train)\n",
    "print(\"Training Completed Successfully.\")"
   ]
  },
  {
   "cell_type": "code",
   "execution_count": 26,
   "id": "12323d89",
   "metadata": {},
   "outputs": [
    {
     "data": {
      "text/plain": [
       "array([9.94061514])"
      ]
     },
     "execution_count": 26,
     "metadata": {},
     "output_type": "execute_result"
    }
   ],
   "source": [
    "model.coef_       # Gives slope of regression line."
   ]
  },
  {
   "cell_type": "code",
   "execution_count": 27,
   "id": "eb6be423",
   "metadata": {},
   "outputs": [
    {
     "data": {
      "text/plain": [
       "1.5079104828268726"
      ]
     },
     "execution_count": 27,
     "metadata": {},
     "output_type": "execute_result"
    }
   ],
   "source": [
    "model.intercept_  # Gives intercept of regression line."
   ]
  },
  {
   "cell_type": "code",
   "execution_count": 28,
   "id": "3c48bf31",
   "metadata": {},
   "outputs": [
    {
     "data": {
      "image/png": "[encoded data removed]",
      "text/plain": [
       "<Figure size 432x288 with 1 Axes>"
      ]
     },
     "metadata": {},
     "output_type": "display_data"
    }
   ],
   "source": [
    "# Replotting Regression Line\n",
    "line = model.coef_*x+model.intercept_\n",
    "# Plotting for the test data\n",
    "plt.scatter(x, y)\n",
    "plt.plot(x, line);#,matplotlib.colour=\"red\");\n",
    "plt.show()"
   ]
  },
  {
   "cell_type": "markdown",
   "id": "c24f739e",
   "metadata": {},
   "source": [
    "## Making Predictions\n",
    "\n",
    "\n",
    "\n",
    "\n",
    "\n",
    "Now we have trained our model.it's time to make some predictions."
   ]
  },
  {
   "cell_type": "code",
   "execution_count": 29,
   "id": "2eb474e9",
   "metadata": {},
   "outputs": [
    {
     "name": "stdout",
     "output_type": "stream",
     "text": [
      "[[1.1]\n",
      " [2.5]\n",
      " [1.9]\n",
      " [9.2]\n",
      " [6.9]]\n"
     ]
    }
   ],
   "source": [
    "print(x_test)                   # Testing data (In Hours)\n",
    "y_pred = model.predict(x_test)  # Predicting the scores"
   ]
  },
  {
   "cell_type": "code",
   "execution_count": 14,
   "id": "83f7c9dc",
   "metadata": {},
   "outputs": [
    {
     "data": {
      "text/html": [
       "<div>\n",
       "<style scoped>\n",
       "    .dataframe tbody tr th:only-of-type {\n",
       "        vertical-align: middle;\n",
       "    }\n",
       "\n",
       "    .dataframe tbody tr th {\n",
       "        vertical-align: top;\n",
       "    }\n",
       "\n",
       "    .dataframe thead th {\n",
       "        text-align: right;\n",
       "    }\n",
       "</style>\n",
       "<table border=\"1\" class=\"dataframe\">\n",
       "  <thead>\n",
       "    <tr style=\"text-align: right;\">\n",
       "      <th></th>\n",
       "      <th>Actual</th>\n",
       "      <th>Predicted</th>\n",
       "    </tr>\n",
       "  </thead>\n",
       "  <tbody>\n",
       "    <tr>\n",
       "      <th>0</th>\n",
       "      <td>17</td>\n",
       "      <td>12.442587</td>\n",
       "    </tr>\n",
       "    <tr>\n",
       "      <th>1</th>\n",
       "      <td>21</td>\n",
       "      <td>26.359448</td>\n",
       "    </tr>\n",
       "    <tr>\n",
       "      <th>2</th>\n",
       "      <td>24</td>\n",
       "      <td>20.395079</td>\n",
       "    </tr>\n",
       "    <tr>\n",
       "      <th>3</th>\n",
       "      <td>88</td>\n",
       "      <td>92.961570</td>\n",
       "    </tr>\n",
       "    <tr>\n",
       "      <th>4</th>\n",
       "      <td>76</td>\n",
       "      <td>70.098155</td>\n",
       "    </tr>\n",
       "  </tbody>\n",
       "</table>\n",
       "</div>"
      ],
      "text/plain": [
       "   Actual  Predicted\n",
       "0      17  12.442587\n",
       "1      21  26.359448\n",
       "2      24  20.395079\n",
       "3      88  92.961570\n",
       "4      76  70.098155"
      ]
     },
     "execution_count": 14,
     "metadata": {},
     "output_type": "execute_result"
    }
   ],
   "source": [
    "# Comparing Actual v/s Predicted values.\n",
    "df = pd.DataFrame({\"Actual\":y_test,\"Predicted\":y_pred})\n",
    "df"
   ]
  },
  {
   "cell_type": "markdown",
   "id": "67317ce9",
   "metadata": {},
   "source": [
    "## As our task , let's predict the score when study hours are 9.25"
   ]
  },
  {
   "cell_type": "code",
   "execution_count": 30,
   "id": "3a343870",
   "metadata": {},
   "outputs": [
    {
     "name": "stdout",
     "output_type": "stream",
     "text": [
      "Number of hours : 9.25\n",
      "Predicted Scores : [93.45860056]\n"
     ]
    }
   ],
   "source": [
    "hours = 9.25\n",
    "my = model.predict([[hours]])\n",
    "print(f\"Number of hours : {hours}\")\n",
    "print(f\"Predicted Scores : {my}\")"
   ]
  },
  {
   "cell_type": "markdown",
   "id": "ae77dc15",
   "metadata": {},
   "source": [
    "### Which shows that if student will study for 9.25 hours then he will get percent score of 93.45%"
   ]
  },
  {
   "cell_type": "markdown",
   "id": "628f2276",
   "metadata": {},
   "source": [
    "### Model Evaluation\n",
    "\n",
    "\n",
    "\n",
    "The most important task is to check the performance of the model.\n",
    "\n",
    "Use R-square.Mean Square Error and Mean Absolute Error."
   ]
  },
  {
   "cell_type": "code",
   "execution_count": 31,
   "id": "0c710b1c",
   "metadata": {},
   "outputs": [],
   "source": [
    "from sklearn.metrics import mean_absolute_error, mean_squared_error, r2_score"
   ]
  },
  {
   "cell_type": "code",
   "execution_count": 32,
   "id": "043c5a46",
   "metadata": {},
   "outputs": [
    {
     "name": "stdout",
     "output_type": "stream",
     "text": [
      "R_square: 0.9735538080811826\n",
      "MSE: 24.38762033985666\n",
      "Mean Absolute Error: 4.877039354964484\n"
     ]
    }
   ],
   "source": [
    "print(\"R_square:\",r2_score(y_test,y_pred)) \n",
    "print(\"MSE:\",mean_squared_error(y_test,y_pred))\n",
    "print(\"Mean Absolute Error:\",mean_absolute_error(y_test,y_pred))"
   ]
  },
  {
   "cell_type": "markdown",
   "id": "512d074c",
   "metadata": {},
   "source": [
    "Here R_Square value is 0.9735 which shows that 97.35% of variation in the outcome(dependent) variable is explained by independent variable.That is our model gives 97.35% accurate results."
   ]
  },
  {
   "cell_type": "markdown",
   "id": "9a7264ca",
   "metadata": {},
   "source": [
    "## Conclusions:\n",
    "\n",
    "i)Accuracy of our model is 97.35%\n",
    "\n",
    "ii)Model predicts that if a student studies for 9.25 hours per day then he/she will score 93.45%."
   ]
  },
  {
   "cell_type": "markdown",
   "id": "296ee12a",
   "metadata": {},
   "source": [
    "## Thank you!!!"
   ]
  },
  {
   "cell_type": "code",
   "execution_count": null,
   "id": "efb25631",
   "metadata": {},
   "outputs": [],
   "source": []
  }
 ],
 "metadata": {
  "kernelspec": {
   "display_name": "Python 3 (ipykernel)",
   "language": "python",
   "name": "python3"
  },
  "language_info": {
   "codemirror_mode": {
    "name": "ipython",
    "version": 3
   },
   "file_extension": ".py",
   "mimetype": "text/x-python",
   "name": "python",
   "nbconvert_exporter": "python",
   "pygments_lexer": "ipython3",
   "version": "3.9.12"
  }
 },
 "nbformat": 4,
 "nbformat_minor": 5
}
